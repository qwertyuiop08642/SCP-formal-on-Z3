{
 "cells": [
  {
   "cell_type": "markdown",
   "id": "82f9b058-9ded-48c3-a73b-f6e8f678374f",
   "metadata": {},
   "source": [
    "# SCP提名部分\n",
    "这个实现使用Z3-Prover对SCP协议的提名部分的简化版进行形式化建模，使用以下假设：\n",
    "\n",
    "## 假设\n",
    "(1) 同时性：所有消息没有发送延迟，且发送的消息一定能接收到\n",
    "\n",
    "(2) Confirm阶段后节点仍然可以提名值（因为没做时点 无法做停止条件）\n",
    "\n",
    "(3) 一个节点有且只有一个quorum slice（下文简记为qslice）\n",
    "\n",
    "(4) 节点全是好节点\n",
    "\n",
    "## 内容\n",
    "这个实现将各个规则的形式化建模的量词消除掉，转换为对每个实例的具体的约束。对于确定论域，我们实现了协议的提名部分，并可用于证明最终所有节点的confirm值都会收敛。\n",
    "\n",
    "对于2≤n≤10，m=3的情形，我们使用Z3证明了上述命题。"
   ]
  },
  {
   "cell_type": "code",
   "execution_count": 1,
   "id": "f803b986-7a03-4daf-948e-c2e14bfb3def",
   "metadata": {},
   "outputs": [],
   "source": [
    "from z3 import *\n",
    "n = 3 # 节点个数\n",
    "m = 3 # 消息个数\n",
    "\n",
    "nodes = [f'node{i+1}' for i in range(n)]\n",
    "Node, node_consts = EnumSort('Node', nodes)\n",
    "nomis = [f'{i}' for i in range(m)]\n",
    "Nomi, nomi_consts = EnumSort('Nomi', nomis)\n",
    "\n",
    "nodes = node_consts\n",
    "nomis = nomi_consts\n",
    "nsets = [BitVecVal(i, n) for i in range(2**n)] # 使用位向量表示Nset\n",
    "\n",
    "in_set = Function('in_set', Node, BitVecSort(n), BoolSort()) # 在集合里 事实上下文通过位向量的比较使得这个函数没有使用\n",
    "in_qslice = Function('in_qslice', Node, Node, BoolSort()) # 第二个节点在第一个节点的qslice里\n",
    "well_behave = Function('well_behave', Node, BoolSort()) # 是否为好节点 此处无用\n",
    "is_blocking_set = Function('is_blocking_set', Node, BitVecSort(n), BoolSort()) # v-阻塞集\n",
    "is_blocking_point = Function('is_blocking_point', Node, Node, BoolSort()) # 第二个节点时第一个节点的阻塞集 由于只有一个qslice，事实上与in_qslice等价\n",
    "is_quorum = Function('is_quorum', BitVecSort(n), BoolSort()) # 是否是quorum\n",
    "\n",
    "init_nomi = Function('init_nomi', Node, Nomi, BoolSort()) # 起始提名\n",
    "nomi = Function('nomi', Node, Nomi, BoolSort()) # 当前提名\n",
    "ratify = Function('ratify', Node, Nomi, BoolSort()) # 批准\n",
    "accept = Function('accept', Node, Nomi, BoolSort()) # 接受\n",
    "confirm = Function('confirm', Node, Nomi, BoolSort()) # 确认\n",
    "local_vote_nomi = Function('local_vote_nomi', Node, Node, Nomi, BoolSort()) # 第一个节点认为第二个节点给提名vote\n",
    "local_quorum_ratify = Function('local_quorum_ratify', Node, BitVecSort(n), Nomi, BoolSort()) # 节点认为quorum给ratify提名\n",
    "local_ratify_nomi = Function('local_ratify_nomi', Node, Node, Nomi, BoolSort()) # 第一个节点认为第二个节点给提名vote\n",
    "local_accept_nomi = Function('local_accept_nomi', Node, Node, Nomi, BoolSort()) # 第一个节点认为第二个节点给接受vote\n",
    "\n",
    "# 最后几个谓词表示我们在为每个节点生成了一个本地的观测"
   ]
  },
  {
   "cell_type": "code",
   "execution_count": 2,
   "id": "8161f50d-77d0-42a7-8ed8-147724a90449",
   "metadata": {},
   "outputs": [],
   "source": [
    "# 展平约束\n",
    "def flatten(l):\n",
    "    return [s for t in l for s in t]"
   ]
  },
  {
   "cell_type": "code",
   "execution_count": 3,
   "id": "4650a6e7-52c6-480c-b0b7-51244c62fb98",
   "metadata": {},
   "outputs": [],
   "source": [
    "# 协议的约束实现 我们把量词消除前的约束作为注释放在了每个处理后的约束的前面以便检查\n",
    "\n",
    "# C1 = [Distinct(nodes)]\n",
    "# simplify(nodes[1] == nodes[2]) -> False\n",
    "\n",
    "# 一些定义\n",
    "\n",
    "# Defi1 = [in_set(nodes[i], nsets[j]) == Extract(i, i, nsets[j]) for i in range(n) for j in range(2**n)]\n",
    "Defi2 = [#quorum定义\n",
    "    # ForAll([nset], And(ForAll([node1], Implies(in_set(node1, nset), ForAll([node2], Implies(in_qslice(node1, node2), in_set(node2, nset))))), Exists([node2], in_set(node2, nset))) ==\n",
    "    #            is_quorum(nset)),\n",
    "    [And(And([Implies(Extract(i1, i1, nsets[j]) == 1, And([Implies(in_qslice(nodes[i1], nodes[i2]), Extract(i2, i2, nsets[j]) == 1) for i2 in range(n)])) for i1 in range(n)]), Not(nsets[j] == 0)) == is_quorum(nsets[j]) for j in range(2**n)],\n",
    "    #v-blocking set 的定义 此处假设只有一个qslice\n",
    "    #   ForAll([node1, node2], in_qslice(node1, node2) == is_blocking_point(node1, node2))\n",
    "    [in_qslice(nodes[i1], nodes[i2]) == is_blocking_point(nodes[i1], nodes[i2]) for i1 in range(n) for i2 in range(n)]\n",
    "]"
   ]
  },
  {
   "cell_type": "code",
   "execution_count": 5,
   "id": "1e44d068-124d-48a9-9188-d75cfe0d92a1",
   "metadata": {},
   "outputs": [],
   "source": [
    "# 问题的一些前提\n",
    "C1 = [\n",
    "    # ForAll([node1], in_qslice(node1, node1)), #所有的点在自己的qslice里\n",
    "    [in_qslice(nodes[i1], nodes[i1]) for i1 in range(n)],\n",
    "    # ForAll([nset, nset1], Implies(And(is_quorum(nset), is_quorum(nset1)), Exists([node1], And(in_set(node1, nset), in_set(node1, nset1))))) #QI\n",
    "    [Implies(And(is_quorum(nsets[j1]), is_quorum(nsets[j2])), Or([And(Extract(i1, i1, nsets[j1]) == 1, Extract(i1, i1, nsets[j2]) == 1) for i1 in range(n)])) for j1 in range(2**n) for j2 in range(2**n)],\n",
    "    # 每一个值必须至少被一个人提名 为了保证非平凡性，防止不带条件的提名影响证明结果\n",
    "    [Or([init_nomi(nodes[i1], x) for i1 in range(n)]) for x in nomis]\n",
    "]\n",
    "\n",
    "# 协议实现\n",
    "C2 = [# ForAll([x, node1, node2], Or(init_nomi(nodes[i1], x), nomi(nodes[i1], x)) == local_vote_nomi(nodes[i2], nodes[i1], x)), # 广播起始提名/支持提名\n",
    "    [Or(init_nomi(nodes[i1], x), nomi(nodes[i1], x)) == local_vote_nomi(nodes[i2], nodes[i1], x) for i1 in range(n) for i2 in range(n) for x in nomis],\n",
    "      # ForAll([x, node2], Exists([nodes1], And(local_vote_nomi(node2, node1, x), in_qslice(node2, node1)) == nomi(node2, x))), # 若信任，加入自己的提名支持名单\n",
    "    [Or([And(in_qslice(nodes[i2], nodes[i1]), local_vote_nomi(nodes[i2], nodes[i1], x)) for i1 in range(n)]) == nomi(nodes[i2], x) for i2 in range(n) for x in nomis],\n",
    "      # ForAll([x, node1, nset], And(ForAll([node2], Implies(in_set(node2, nset), local_vote_nomi(node1, node2, x))), is_quorum(nset) == local_quorum_ratify(node1, nset, x)), # 本地观测决定是否批准\n",
    "    [And(And([Implies(Extract(i2, i2, nsets[j]) == 1, local_vote_nomi(nodes[i1], nodes[i2], x)) for i2 in range(n)]), is_quorum(nsets[j])) == local_quorum_ratify(nodes[i1], nsets[j], x) for i1 in range(n) for j in range(2**n) for x in nomis],\n",
    "      # ForAll([x, node1, node2], Exists([nset], And(in_set(node2, nset), local_nset_ratify(node1, nset, x))) == local_ratify_nomi(node1, node2, x)),\n",
    "    [Or([And(Extract(i2, i2, nsets[j]) == 1, local_quorum_ratify(nodes[i1], nsets[j], x)) for j in range(2**n)]) == local_ratify_nomi(nodes[i1], nodes[i2], x) for i1 in range(n) for i2 in range(n) for x in nomis],\n",
    "      # ForAll([x, node1], Or(Exists([nset], And(in_set(node1, nset), is_quorum(nset), local_quorum_ratify(node1, nset, x))), Exists([node2], And(is_blocking_point(node1, node2), local_ratify_nomi(node1, node2, x)))) == accept(node1, x)), # 接受流程\n",
    "    [Or(Or([And(Extract(i1, i1, nsets[j]) == 1, is_quorum(nsets[j]), local_quorum_ratify(nodes[i1], nsets[j], x)) for j in range(2**n)]), Or([And(is_blocking_point(nodes[i1], nodes[i2]), local_ratify_nomi(nodes[i1], nodes[i2], x)) for i2 in range(n)])) == accept(nodes[i1], x) for i1 in range(n) for x in nomis],\n",
    "      # ForAll([x, node1, node2], accept(node1, x) == local_accept_nomi(node2, node1, x)), # 广播接受提名\n",
    "    [accept(nodes[i1], x) == local_accept_nomi(nodes[i2], nodes[i1], x) for i1 in range(n) for i2 in range(n) for x in nomis],\n",
    "      # ForAll([x, node1], Exists([nset], And(in_set(node1, nset), is_quorum(nset), ForAll([node2], Implies(in_set(node2, nset), local_accept_nomi(node1, node2, x))))) == confirm(node1, x))# 确认流程\n",
    "    [Or([And(Extract(i1, i1, nsets[j]) == 1, is_quorum(nsets[j]), And([Implies(Extract(i2, i2, nsets[j]) == 1, local_accept_nomi(nodes[i1], nodes[i2], x)) for i2 in range(n)])) for j in range(2**n)]) == confirm(nodes[i1], x) for i1 in range(n) for x in nomis],\n",
    "]"
   ]
  },
  {
   "cell_type": "code",
   "execution_count": 6,
   "id": "79714883-4071-4ab2-bd78-e4399287e070",
   "metadata": {},
   "outputs": [],
   "source": [
    "# 此处可以提前指定网络的一些参数 以便测试\n",
    "# 提前指定网络结构\n",
    "qslice_matrix = (\n",
    "    (1, 0, 0,),\n",
    "    (1, 1, 0,),\n",
    "    (1, 0, 1,),\n",
    ")\n",
    "# 提前指定提名结构\n",
    "init_nomi_matrix = (\n",
    "    (1, 0, 0,),\n",
    "    (0, 1, 0,),\n",
    "    (0, 0, 1,),\n",
    ")\n",
    "C3 = [in_qslice(node_consts[i], node_consts[j]) if qslice_matrix[i][j] else Not(in_qslice(node_consts[i], node_consts[j])) for i in range(n) for j in range(n)]\n",
    "C4 = [init_nomi(node_consts[i], nomi_consts[j]) if init_nomi_matrix[i][j] else Not(init_nomi(node_consts[i], nomi_consts[j])) for i in range(n) for j in range(m)]"
   ]
  },
  {
   "cell_type": "code",
   "execution_count": 7,
   "id": "b67a4a31-a95e-4cc6-9ee0-6922b691c4a0",
   "metadata": {},
   "outputs": [],
   "source": [
    "# 证明：所有的节点的confirm值收敛 也就是说每个节点对于每个消息同时confirm或不confirm\n",
    "S1 = [confirm(node_consts[i], x) == confirm(node_consts[i+1], x) for i in range(n-1) for x in nomi_consts]"
   ]
  },
  {
   "cell_type": "code",
   "execution_count": 8,
   "id": "095eeec2-5a35-4b7b-a5d9-a9215d9a0a5c",
   "metadata": {},
   "outputs": [
    {
     "data": {
      "text/html": [
       "<b>sat</b>"
      ],
      "text/plain": [
       "sat"
      ]
     },
     "execution_count": 8,
     "metadata": {},
     "output_type": "execute_result"
    }
   ],
   "source": [
    "# 提供一个非平凡的例子 观察传播过程\n",
    "s = Solver()\n",
    "s.add(flatten(Defi2) + flatten(C1) + flatten(C2) + C3 + C4)\n",
    "s.check()"
   ]
  },
  {
   "cell_type": "code",
   "execution_count": 9,
   "id": "ef72f18d-d5c0-4ed7-8951-636adc9011ed",
   "metadata": {
    "scrolled": true
   },
   "outputs": [
    {
     "name": "stdout",
     "output_type": "stream",
     "text": [
      "[is_blocking_point = [(node1, node2) -> False,\n",
      "                      (node1, node3) -> False,\n",
      "                      (node2, node3) -> False,\n",
      "                      (node3, node2) -> False,\n",
      "                      else -> True],\n",
      " accept = [(node1, 0) -> True,\n",
      "           (node2, 0) -> True,\n",
      "           (node3, 0) -> True,\n",
      "           else -> False],\n",
      " nomi = [(node1, 1) -> False,\n",
      "         (node1, 2) -> False,\n",
      "         (node2, 2) -> False,\n",
      "         (node3, 1) -> False,\n",
      "         else -> True],\n",
      " local_ratify_nomi = [(node1, node1, 0) -> True,\n",
      "                      (node1, node2, 0) -> True,\n",
      "                      (node1, node3, 0) -> True,\n",
      "                      (node2, node1, 0) -> True,\n",
      "                      (node2, node2, 0) -> True,\n",
      "                      (node2, node3, 0) -> True,\n",
      "                      (node3, node1, 0) -> True,\n",
      "                      (node3, node2, 0) -> True,\n",
      "                      (node3, node3, 0) -> True,\n",
      "                      else -> False],\n",
      " is_quorum = [1 -> True,\n",
      "              3 -> True,\n",
      "              5 -> True,\n",
      "              7 -> True,\n",
      "              else -> False],\n",
      " local_vote_nomi = [(node1, node1, 1) -> False,\n",
      "                    (node1, node1, 2) -> False,\n",
      "                    (node2, node1, 1) -> False,\n",
      "                    (node2, node1, 2) -> False,\n",
      "                    (node3, node1, 1) -> False,\n",
      "                    (node3, node1, 2) -> False,\n",
      "                    (node1, node2, 2) -> False,\n",
      "                    (node2, node2, 2) -> False,\n",
      "                    (node3, node2, 2) -> False,\n",
      "                    (node1, node3, 1) -> False,\n",
      "                    (node2, node3, 1) -> False,\n",
      "                    (node3, node3, 1) -> False,\n",
      "                    else -> True],\n",
      " local_quorum_ratify = [(node1, 1, 0) -> True,\n",
      "                        (node1, 3, 0) -> True,\n",
      "                        (node1, 5, 0) -> True,\n",
      "                        (node1, 7, 0) -> True,\n",
      "                        (node2, 1, 0) -> True,\n",
      "                        (node2, 3, 0) -> True,\n",
      "                        (node2, 5, 0) -> True,\n",
      "                        (node2, 7, 0) -> True,\n",
      "                        (node3, 1, 0) -> True,\n",
      "                        (node3, 3, 0) -> True,\n",
      "                        (node3, 5, 0) -> True,\n",
      "                        (node3, 7, 0) -> True,\n",
      "                        else -> False],\n",
      " in_qslice = [(node1, node2) -> False,\n",
      "              (node1, node3) -> False,\n",
      "              (node2, node3) -> False,\n",
      "              (node3, node2) -> False,\n",
      "              else -> True],\n",
      " local_accept_nomi = [(node1, node1, 0) -> True,\n",
      "                      (node2, node1, 0) -> True,\n",
      "                      (node3, node1, 0) -> True,\n",
      "                      (node1, node2, 0) -> True,\n",
      "                      (node2, node2, 0) -> True,\n",
      "                      (node3, node2, 0) -> True,\n",
      "                      (node1, node3, 0) -> True,\n",
      "                      (node2, node3, 0) -> True,\n",
      "                      (node3, node3, 0) -> True,\n",
      "                      else -> False],\n",
      " init_nomi = [(node1, 0) -> True,\n",
      "              (node2, 1) -> True,\n",
      "              (node3, 2) -> True,\n",
      "              else -> False],\n",
      " confirm = [(node1, 0) -> True,\n",
      "            (node2, 0) -> True,\n",
      "            (node3, 0) -> True,\n",
      "            else -> False]]\n"
     ]
    }
   ],
   "source": [
    "print(s.model())"
   ]
  },
  {
   "cell_type": "code",
   "execution_count": 10,
   "id": "496a25e9-52d8-45f5-b517-a7d60b1f0015",
   "metadata": {},
   "outputs": [
    {
     "data": {
      "text/html": [
       "<b>unsat</b>"
      ],
      "text/plain": [
       "unsat"
      ]
     },
     "execution_count": 10,
     "metadata": {},
     "output_type": "execute_result"
    }
   ],
   "source": [
    "# 证明论断\n",
    "s = Solver()\n",
    "s.add(flatten(Defi2) + flatten(C1) + flatten(C2) + [Not(s) for s in S1])\n",
    "s.check()"
   ]
  }
 ],
 "metadata": {
  "kernelspec": {
   "display_name": "Python 3 (ipykernel)",
   "language": "python",
   "name": "python3"
  },
  "language_info": {
   "codemirror_mode": {
    "name": "ipython",
    "version": 3
   },
   "file_extension": ".py",
   "mimetype": "text/x-python",
   "name": "python",
   "nbconvert_exporter": "python",
   "pygments_lexer": "ipython3",
   "version": "3.9.21"
  }
 },
 "nbformat": 4,
 "nbformat_minor": 5
}
