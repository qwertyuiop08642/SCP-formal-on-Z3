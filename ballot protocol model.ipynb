{
 "cells": [
  {
   "cell_type": "code",
   "execution_count": 1,
   "id": "d5b46cc2-c4b3-40f5-bb45-7a1ea02666b8",
   "metadata": {},
   "outputs": [],
   "source": [
    "from z3 import *"
   ]
  },
  {
   "cell_type": "code",
   "execution_count": 2,
   "id": "d722fef4-0206-4035-b9f7-bb61af2142e6",
   "metadata": {},
   "outputs": [],
   "source": [
    "# 阶段\n",
    "Stage, stage_consts = EnumSort('Stage', ['PREPARE', 'CONFIRM', 'EXTERNALIZE'])\n",
    "# 候选值\n",
    "Cand = IntSort()\n",
    "# ballot\n",
    "Ballot_Nil, ballot_nil = EnumSort('Ballot_Nil', ['ballot_nil'])\n",
    "ballot_nil = ballot_nil[0]\n",
    "\n",
    "Ballot = Datatype('Ballot')\n",
    "Ballot.declare('cons', ('n', IntSort()), ('x', Cand))\n",
    "Ballot.declare('nil')\n",
    "Ballot = Ballot.create()\n",
    "ballot_nil = Ballot.nil\n",
    "\n",
    "# 节点状态 记录phi b p' p c h z 暂时不记录M\n",
    "Nstate = Datatype('Nstate')\n",
    "Nstate.declare('cons', ('phi', Stage), ('b', Ballot), ('p1', Ballot), ('p', Ballot), ('c', Ballot), ('h', Ballot), ('z', Cand))\n",
    "Nstate = Nstate.create()\n"
   ]
  },
  {
   "cell_type": "code",
   "execution_count": 4,
   "id": "4854eb39-406e-46b7-a91c-104fe2d7a9e2",
   "metadata": {},
   "outputs": [],
   "source": [
    "# 时间步长\n",
    "T = 1000\n",
    "times = [f'node{i}' for i in range(T)]\n",
    "Time, time_consts = EnumSort('Time', times)"
   ]
  },
  {
   "cell_type": "code",
   "execution_count": null,
   "id": "a8f4d065-aee0-49ba-b1bc-8f3bd8de11c6",
   "metadata": {},
   "outputs": [],
   "source": [
    "node_state = Function('node_state', Node, Time, Nstate) # 每个节点的状态"
   ]
  },
  {
   "cell_type": "code",
   "execution_count": null,
   "id": "163e0ff3-2dd3-4f72-af97-e4f6ab9422f9",
   "metadata": {},
   "outputs": [],
   "source": [
    "Init = [\n",
    "    ForAll([node1], node_state(node1, times[0]).phi == stage_consts[0]),\n",
    "    ForAll([node1], And(node_state(node1, times[0]).b.n == stage_consts[0], node_state(node1, times[0]).b.n == node_state(node1, times[0]).z)),\n",
    "    ForAll([node1], node_state(node1, times[0]).p1 == ballot_nil),\n",
    "    ForAll([node1], node_state(node1, times[0]).p == ballot_nil),\n",
    "    ForAll([node1], node_state(node1, times[0]).c == ballot_nil),\n",
    "    ForAll([node1], node_state(node1, times[0]).h == ballot_nil),\n",
    "]\n",
    "\n",
    "CS = [\n",
    "    ForAll([node1, time], Or(node_state(node1, time).p == ballot_nil, And(accept_prepared(node1, node_state(node1, time).p, time), ForAll([ballot], Implies(accept_prepared(node1, ballot, time), ballot.n <= node_state(node1, time).p))))),\n",
    "    ForAll([node1, time], Or(node_state(node1, time).p1 == ballot_nil, And(accept_prepared(node1, node_state(node1, time).p1, time), node_state(node1, time).p.x != node_state(node1, time).p1.x, ForAll([ballot], Implies(accept_prepared(node1, ballot, time), ballot.n < node_state(node1, time).p))))),\n",
    "    ForAll([node1, time], Implies(And(node_state(node1, time).phi == stage_consts[0], node_state(node1, time).c == ballot.nil), Or(node_state(node1, time).h == ballot_nil, And(confirm_prepared(node1, node_state(node1, time).h, time), ForAll([ballot], Implies(confirm_prepared(node1, ballot, time), ballot.n <= node_state(node1, time).h)))))),\n",
    "    ForAll([node1, time], Implies(And(node_state(node1, time).phi == stage_consts[0], node_state(node1, time).c != ballot.nil), And(confirm_prepared(node1, node_state(node1, time).c), confirm_prepared(node1, node_state(node1, time).h, time), ForAll([ballot], Implies(confirm_prepared(node1, ballot, time), And(ballot.n <= node_state(node1, time).h, ballot.n <= node_state(node1, time).c)))))),\n",
    "    ForAll([node1, time], Implies(node_state(node1, time).phi == stage_consts[1], And(accept_prepared(node1, node_state(node1, time).c, time), accept_prepared(node1, node_state(node1, time).h, time), ForAll([ballot], Implies(accept_prepared(node1, ballot, time), And(ballot.n <= node_state(node1, time).h, ballot.n <= node_state(node1, time).c)))))),\n",
    "    ForAll([node1, time], Implies(node_state(node1, time).phi == stage_consts[2], And(confirm_prepared(node1, node_state(node1, time).c, time), confirm_prepared(node1, node_state(node1, time).h, time), ForAll([ballot], Implies(confirm_prepared(node1, ballot, time), And(ballot.n <= node_state(node1, time).h, ballot.n <= node_state(node1, time).c)))))),\n",
    "    ForAll([node1, time], Implies(node_state(node1, time).h != ballot, node_state(node1, time).h.x == node_state(node1, time).z)),\n",
    "]"
   ]
  },
  {
   "cell_type": "code",
   "execution_count": null,
   "id": "18c82658-e7a2-4167-8e9c-cb4dc490fcef",
   "metadata": {},
   "outputs": [],
   "source": [
    "# 对节点状态的限制 c<~h<~b\n",
    "C1 = [\n",
    "    ForAll([node1, time], And(node_state(node1, time).c.x == node_state(node1, time).h.x, node_state(node1, time).h.x == node_state(node1, time).b.x)),\n",
    "    ForAll([node1, time], And(node_state(node1, time).c.n <= node_state(node1, time).h.x, node_state(node1, time).h.x <= node_state(node1, time).b.x)),\n",
    "]"
   ]
  },
  {
   "cell_type": "code",
   "execution_count": null,
   "id": "4c65d7e4-a3cb-4009-baf0-b4d8966602c7",
   "metadata": {},
   "outputs": [],
   "source": [
    "# 状态转移规则\n",
    "C2_pre = [\n",
    "    [ForAll([node1], Implies(node_state(node1, time_consts[t-1]).phi == stage_consts[0], Implies(Exists([ballot], And(Not(accept_prepared(node1, ballot, time_consts[t-1])), accept_prepared(node1, ballot, time_consts[t]))), node_state(node1, time_consts[t+1]).c == ballot_nil))) for t in range(1, T)],\n",
    "    [ForAll([node1], Implies(node_state(node1, time_consts[t-1]).phi == stage_consts[0], Implies(And(node_state(node1, time_consts[t-1]).c == ballot_nil, node_state(node1, time_consts[t-1]).b.n <= node_state(node1, time_consts[t]).h.n, Not(And(node_state(node1, time_consts[t-1]).p.n >= node_state(node1, time_consts[t]).h.n, node_state(node1, time_consts[t-1]).p.x != node_state(node1, time_consts[t]).h.x)), Not(And(node_state(node1, time_consts[t-1]).p1.n >= node_state(node1, time_consts[t]).h.n, node_state(node1, time_consts[t-1]).p1.x != node_state(node1, time_consts[t]).h.x))), And(node_state(node1, time_consts[t]).c.n >= node_state(node1, time_consts[t-1]).b.n, ForAll([ballot], Implies(And(ballot.n >= node_state(node1, time_consts[t-1]).b.n, ballot.n <= node_state(node1, time_consts[t]).h.n, ballot.x == node_state(node1, time_consts[t]).h.x), ballot.n <= node_state(node1, time_consts[t]).c.n)))))) for t in range(1, T+1)],\n",
    "    [ForAll([node1], Implies(node_state(node1, time_consts[t-1]).phi == stage_consts[0], Implies(Exists([ballot], accept_commit(node1, ballot, time_consts[t-1])), And(node_state(node1, time_consts[t]).phi == stage_consts[1], Implies(Not(And(node_state(node1, time_consts[t]).h.n <= node_state(node1, time_consts[t-1]).b.n, node_state(node1, time_consts[t]).h.x == node_state(node1, time_consts[t-1]).b.x)), And(node_state(node1, time_consts[t]).b == node_state(node1, time_consts[t]).x, node_state_6(node1, t))))))) for t in range(1, T+1)],\n",
    "]\n",
    "\n",
    "C2_con = [\n",
    "    [ForAll([node1], Implies(node_state(node1, time_consts[t-1]).phi == stage_consts[1], Implies(Or(Exists([ballot], And(Not(accept_commit(node1, ballot, time_consts[t-1])), accept_commit(node1, ballot, time_consts[t]))), node_state_6(node1, time_consts[t])), And(Implies(node_h1_6(node1, time_consts[t]).n > node_state(node1, time_consts[t]).h.n, node_state(node1, time_consts[t+1]).h == node_h1_6(node1, time_consts[t])), node_state(node1, time_consts[t+1]).c == node_c_6(node1, time_consts[t]))))) for t in range(1, T)],\n",
    "    [ForAll([node1], Implies(node_state(node1, time_consts[t-1]).phi == stage_consts[1], Implies(Exists([ballot], confirm_commit(node1, ballot, time_consts[t-1])), node_state(node1, time_consts[t]).phi == stage_consts[2]))) for t in range(1, T+1)],\n",
    "]\n",
    "\n",
    "# terminate\n",
    "C2_ext = [\n",
    "    [ForAll([node1], Implies(node_state(node1, time_consts[t-1]).phi == stage_consts[2], node_state(node1, time_consts[t-1]) == node_state(node1, time_consts[t]))) for t in range(1, T+1)],\n",
    "]\n",
    "\n",
    "C2_raise_b = [\n",
    "    [ForAll([node1], Implies(node_state(node1, time_consts[t-1]).b.n < node_state(node1, time_consts[t]).h.n, node_state_6(node1, time_consts[t]))) for t in range(1, T+1)],\n",
    "]\n",
    "\n",
    "C2_deblock = [\n",
    "    Forall([node1, n, mset, time], Implies(And(is_blocking_signal(node1, mset), ForAll([msg], Implies(in_mset(msg, mset), msg.b.n > n))), deblock_S_over_n(node1, n, mset, time))), \n",
    "    [ForAll([node1], Implies(Exists([mset], deblock_S_over_n(node1, node_state(node1, time_consts[t]).b.n, mset, time_consts[t-1])), Exists([n], And(node_state(node1, time_consts[t]).b == ballot_con(n, node_state(node1, time_consts[t-1]).z), Not(Exists([mset], deblock_S_over_n(node1, n, mset, time_consts[t-1]))))))) for t in range(1, T+1)],\n",
    "]"
   ]
  },
  {
   "cell_type": "code",
   "execution_count": null,
   "id": "bcaa8f0b-5cb9-4caf-8ed1-9b4a0a311282",
   "metadata": {},
   "outputs": [],
   "source": [
    "# 规则约束\n",
    "# 初始值\n",
    "Init = [\n",
    "    ForAll([node1], node_state(node1, times[0]).phi == stage_consts[0]),\n",
    "    ForAll([node1], And(node_state(node1, times[0]).b.n == stage_consts[0], node_state(node1, times[0]).b.n == node_state(node1, times[0]).z)),\n",
    "    ForAll([node1], node_state(node1, times[0]).p1 == ballot_nil),\n",
    "    ForAll([node1], node_state(node1, times[0]).p == ballot_nil),\n",
    "    ForAll([node1], node_state(node1, times[0]).c == ballot_nil),\n",
    "    ForAll([node1], node_state(node1, times[0]).h == ballot_nil),\n",
    "]\n",
    "# 节点状态的约束\n",
    "CS = [\n",
    "    ForAll([node1, time], Or(node_state(node1, time).p == ballot_nil, And(accept_prepared(node1, node_state(node1, time).p, time), ForAll([ballot], Implies(accept_prepared(node1, ballot, time), ballot.n <= node_state(node1, time).p))))),\n",
    "    ForAll([node1, time], Or(node_state(node1, time).p1 == ballot_nil, And(accept_prepared(node1, node_state(node1, time).p1, time), node_state(node1, time).p.x != node_state(node1, time).p1.x, ForAll([ballot], Implies(accept_prepared(node1, ballot, time), ballot.n < node_state(node1, time).p))))),\n",
    "    ForAll([node1, time], Implies(And(node_state(node1, time).phi == stage_consts[0], node_state(node1, time).c == ballot.nil), Or(node_state(node1, time).h == ballot_nil, And(confirm_prepared(node1, node_state(node1, time).h, time), ForAll([ballot], Implies(confirm_prepared(node1, ballot, time), ballot.n <= node_state(node1, time).h)))))),\n",
    "    ForAll([node1, time], Implies(And(node_state(node1, time).phi == stage_consts[0], node_state(node1, time).c != ballot.nil), And(confirm_prepared(node1, node_state(node1, time).c), confirm_prepared(node1, node_state(node1, time).h, time), ForAll([ballot], Implies(confirm_prepared(node1, ballot, time), And(ballot.n <= node_state(node1, time).h, ballot.n <= node_state(node1, time).c)))))),\n",
    "    ForAll([node1, time], Implies(node_state(node1, time).phi == stage_consts[1], And(accept_prepared(node1, node_state(node1, time).c, time), accept_prepared(node1, node_state(node1, time).h, time), ForAll([ballot], Implies(accept_prepared(node1, ballot, time), And(ballot.n <= node_state(node1, time).h, ballot.n <= node_state(node1, time).c)))))),\n",
    "    ForAll([node1, time], Implies(node_state(node1, time).phi == stage_consts[2], And(confirm_prepared(node1, node_state(node1, time).c, time), confirm_prepared(node1, node_state(node1, time).h, time), ForAll([ballot], Implies(confirm_prepared(node1, ballot, time), And(ballot.n <= node_state(node1, time).h, ballot.n <= node_state(node1, time).c)))))),\n",
    "    ForAll([node1, time], Implies(node_state(node1, time).h != ballot, node_state(node1, time).h.x == node_state(node1, time).z)),\n",
    "]\n",
    "# 对节点状态的限制 c<~h<~b\n",
    "C1 = [\n",
    "    ForAll([node1, time], And(node_state(node1, time).c.x == node_state(node1, time).h.x, node_state(node1, time).h.x == node_state(node1, time).b.x)),\n",
    "    ForAll([node1, time], And(node_state(node1, time).c.n <= node_state(node1, time).h.x, node_state(node1, time).h.x <= node_state(node1, time).b.x)),\n",
    "]\n",
    "# 状态转移规则\n",
    "C2_pre = [\n",
    "    [ForAll([node1], Implies(node_state(node1, time_consts[t-1]).phi == stage_consts[0], Implies(Exists([ballot], And(Not(accept_prepared(node1, ballot, time_consts[t-1])), accept_prepared(node1, ballot, time_consts[t]))), node_state(node1, time_consts[t+1]).c == ballot_nil))) for t in range(1, T)],\n",
    "    [ForAll([node1], Implies(node_state(node1, time_consts[t-1]).phi == stage_consts[0], Implies(And(node_state(node1, time_consts[t-1]).c == ballot_nil, node_state(node1, time_consts[t-1]).b.n <= node_state(node1, time_consts[t]).h.n, Not(And(node_state(node1, time_consts[t-1]).p.n >= node_state(node1, time_consts[t]).h.n, node_state(node1, time_consts[t-1]).p.x != node_state(node1, time_consts[t]).h.x)), Not(And(node_state(node1, time_consts[t-1]).p1.n >= node_state(node1, time_consts[t]).h.n, node_state(node1, time_consts[t-1]).p1.x != node_state(node1, time_consts[t]).h.x))), And(node_state(node1, time_consts[t]).c.n >= node_state(node1, time_consts[t-1]).b.n, ForAll([ballot], Implies(And(ballot.n >= node_state(node1, time_consts[t-1]).b.n, ballot.n <= node_state(node1, time_consts[t]).h.n, ballot.x == node_state(node1, time_consts[t]).h.x), ballot.n <= node_state(node1, time_consts[t]).c.n)))))) for t in range(1, T+1)],\n",
    "    [ForAll([node1], Implies(node_state(node1, time_consts[t-1]).phi == stage_consts[0], Implies(Exists([ballot], accept_commit(node1, ballot, time_consts[t-1])), And(node_state(node1, time_consts[t]).phi == stage_consts[1]), Implies(Not(And(node_state(node1, time_consts[t]).h.n <= node_state(node1, time_consts[t-1]).b.n, node_state(node1, time_consts[t]).h.x == node_state(node1, time_consts[t-1]).b.x)), And(node_state(node1, time_consts[t]).b == node_state(node1, time_consts[t]).x, node_state_6(node1, t)))))) for t in range(1, T+1)],\n",
    "]\n",
    "C2_con = [\n",
    "    [ForAll([node1], Implies(node_state(node1, time_consts[t-1]).phi == stage_consts[1], Implies(Or(Exists([ballot], And(Not(accept_commit(node1, ballot, time_consts[t-1])), accept_commit(node1, ballot, time_consts[t]))), node_state_6(node1, time_consts[t])), And(Implies(node_h1_6(node1, time_consts[t]).n > node_state(node1, time_consts[t]).h.n, node_state(node1, time_consts[t+1]).h == node_h1_6(node1, time_consts[t])), node_state(node1, time_consts[t+1]).c == node_c_6(node1, time_consts[t]))))) for t in range(1, T)],\n",
    "    [ForAll([node1], Implies(node_state(node1, time_consts[t-1]).phi == stage_consts[1], Implies(Exists([ballot], confirm_commit(node1, ballot, time_consts[t-1])), node_state(node1, time_consts[t]).phi == stage_consts[2]))) for t in range(1, T+1)],\n",
    "]\n",
    "C2_ext = [ # terminate\n",
    "    [ForAll([node1], Implies(node_state(node1, time_consts[t-1]).phi == stage_consts[2], node_state(node1, time_consts[t-1]) == node_state(node1, time_consts[t]))) for t in range(1, T+1)],\n",
    "]\n",
    "C2_raise_b = [\n",
    "    [ForAll([node1], Implies(node_state(node1, time_consts[t-1]).b.n < node_state(node1, time_consts[t]).h.n, node_state_6(node1, time_consts[t]))) for t in range(1, T+1)],\n",
    "]\n",
    "C2_deblock = [\n",
    "    ForAll([node1, n, mset, time], Implies(And(is_blocking_signal(node1, mset), ForAll([msg], Implies(in_mset(msg, mset), msg.b.n > n))), deblock_S_over_n(node1, n, mset, time))), \n",
    "    [ForAll([node1], Implies(Exists([mset], deblock_S_over_n(node1, node_state(node1, time_consts[t]).b.n, mset, time_consts[t-1])), Exists([n], And(node_state(node1, time_consts[t]).b == ballot_con(n, node_state(node1, time_consts[t-1]).z), Not(Exists([mset], deblock_S_over_n(node1, n, mset, time_consts[t-1]))))))) for t in range(1, T+1)],\n",
    "]"
   ]
  }
 ],
 "metadata": {
  "kernelspec": {
   "display_name": "Python 3 (ipykernel)",
   "language": "python",
   "name": "python3"
  },
  "language_info": {
   "codemirror_mode": {
    "name": "ipython",
    "version": 3
   },
   "file_extension": ".py",
   "mimetype": "text/x-python",
   "name": "python",
   "nbconvert_exporter": "python",
   "pygments_lexer": "ipython3",
   "version": "3.9.21"
  }
 },
 "nbformat": 4,
 "nbformat_minor": 5
}
